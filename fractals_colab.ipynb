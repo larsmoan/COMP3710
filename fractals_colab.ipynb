{
  "cells": [
    {
      "cell_type": "markdown",
      "metadata": {
        "colab_type": "text",
        "id": "view-in-github"
      },
      "source": [
        "<a href=\"https://colab.research.google.com/github/larsmoan/COMP3710/blob/main/fractals_colab.ipynb\" target=\"_parent\"><img src=\"https://colab.research.google.com/assets/colab-badge.svg\" alt=\"Open In Colab\"/></a>"
      ]
    },
    {
      "cell_type": "code",
      "execution_count": null,
      "metadata": {
        "colab": {
          "base_uri": "https://localhost:8080/"
        },
        "id": "jcKfB9SgoYlv",
        "outputId": "fffde864-e8dc-46a8-da4c-9b7974897259"
      },
      "outputs": [],
      "source": [
        "import torch\n",
        "import numpy as np\n",
        "import matplotlib.pyplot as plt\n",
        "print(\"PyTorch Version:\", torch.__version__)\n",
        "device = torch.device('cuda' if torch.cuda.is_available() else 'cpu')\n",
        "print(f\"Using {device} for computation\")"
      ]
    },
    {
      "cell_type": "code",
      "execution_count": null,
      "metadata": {
        "id": "-uDwr41Lob0c"
      },
      "outputs": [],
      "source": [
        "# Use NumPy to create a 2D array of complex numbers on [-2,2]x[-2,2]\n",
        "Y, X = np.mgrid[-1.3:1.3:0.0005, -2:1:0.0005]\n",
        "\n",
        "# load into PyTorch tensors\n",
        "x = torch.Tensor(X)\n",
        "y = torch.Tensor(Y)\n",
        "z = torch.complex(x, y) #important! zs = z.clone() #Updated!\n",
        "zs = z.clone() #Updated!\n",
        "ns = torch.zeros_like(z)\n",
        "\n",
        "# transfer to the GPU device\n",
        "z = z.to(device)\n",
        "zs = zs.to(device)\n",
        "ns = ns.to(device)"
      ]
    },
    {
      "cell_type": "code",
      "execution_count": null,
      "metadata": {
        "id": "iooRWQN4oft0"
      },
      "outputs": [],
      "source": [
        "for i in range(200):\n",
        "    #Compute the new values of z: z^2 + c\n",
        "    zs_ = zs**2 +  0.285 + 0.01*i\n",
        "    #Have we diverged with this new value?\n",
        "    not_diverged = torch.abs(zs_) < 4\n",
        "    ns += not_diverged\n",
        "    zs = zs_"
      ]
    },
    {
      "cell_type": "code",
      "execution_count": null,
      "metadata": {
        "colab": {
          "base_uri": "https://localhost:8080/",
          "height": 926
        },
        "id": "e0SALVFIoiVn",
        "outputId": "3e3ff95e-7500-48fb-b22e-9128b2b2bd96"
      },
      "outputs": [],
      "source": [
        "fig = plt.figure(figsize=(16,10))\n",
        "\n",
        "def processFractal(a):\n",
        "    \"\"\"Display an array of iteration counts as a\n",
        "                colorful picture of a fractal.\"\"\"\n",
        "    a_cyclic = (6.28*a/20.0).reshape(list(a.shape)+[1])\n",
        "    img = np.concatenate([10+20*np.cos(a_cyclic),\n",
        "    30+50*np.sin(a_cyclic),\n",
        "    155-80*np.cos(a_cyclic)], 2)\n",
        "    img[a==a.max()] = 0\n",
        "    a = img\n",
        "    a = np.uint8(np.clip(a, 0, 255))\n",
        "    return a\n",
        "\n",
        "plt.imshow(processFractal(ns.cpu().numpy()))\n",
        "plt.tight_layout(pad=0)\n",
        "plt.show()"
      ]
    }
  ],
  "metadata": {
    "accelerator": "GPU",
    "colab": {
      "authorship_tag": "ABX9TyO4G9NxODuBiS6fgfJk3EYl",
      "gpuType": "T4",
      "include_colab_link": true,
      "provenance": []
    },
    "kernelspec": {
      "display_name": "Python 3",
      "name": "python3"
    },
    "language_info": {
      "codemirror_mode": {
        "name": "ipython",
        "version": 3
      },
      "file_extension": ".py",
      "mimetype": "text/x-python",
      "name": "python",
      "nbconvert_exporter": "python",
      "pygments_lexer": "ipython3",
      "version": "3.11.4"
    }
  },
  "nbformat": 4,
  "nbformat_minor": 0
}
