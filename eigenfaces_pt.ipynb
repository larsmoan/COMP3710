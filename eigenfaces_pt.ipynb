{
 "cells": [
  {
   "cell_type": "code",
   "execution_count": 2,
   "metadata": {},
   "outputs": [
    {
     "name": "stdout",
     "output_type": "stream",
     "text": [
      "Downloading http://vis-www.cs.umass.edu/lfw/lfw-funneled.tgz to /Users/larsmoan/Documents/UQ/COMP3710/COMP3710/data/lfw-py/lfw-funneled.tgz\n"
     ]
    },
    {
     "name": "stderr",
     "output_type": "stream",
     "text": [
      "100.0%\n"
     ]
    },
    {
     "name": "stdout",
     "output_type": "stream",
     "text": [
      "Extracting /Users/larsmoan/Documents/UQ/COMP3710/COMP3710/data/lfw-py/lfw-funneled.tgz to /Users/larsmoan/Documents/UQ/COMP3710/COMP3710/data/lfw-py\n",
      "Downloading http://vis-www.cs.umass.edu/lfw/people.txt to /Users/larsmoan/Documents/UQ/COMP3710/COMP3710/data/lfw-py/people.txt\n"
     ]
    },
    {
     "name": "stderr",
     "output_type": "stream",
     "text": [
      "100.0%\n"
     ]
    },
    {
     "name": "stdout",
     "output_type": "stream",
     "text": [
      "Downloading http://vis-www.cs.umass.edu/lfw/lfw-names.txt to /Users/larsmoan/Documents/UQ/COMP3710/COMP3710/data/lfw-py/lfw-names.txt\n"
     ]
    },
    {
     "name": "stderr",
     "output_type": "stream",
     "text": [
      "100.0%\n"
     ]
    }
   ],
   "source": [
    "#Aim of this notebook is to reimplement the Random Forest classifier of LFW using pytorch\n",
    "\n",
    "from torchvision.datasets import LFWPeople\n",
    "from torchvision import transforms\n",
    "\n",
    "lfw_people = LFWPeople(root='/Users/larsmoan/Documents/UQ/COMP3710/COMP3710/data',download=True,transform=transforms.ToTensor())"
   ]
  },
  {
   "cell_type": "code",
   "execution_count": null,
   "metadata": {},
   "outputs": [],
   "source": [
    "#https://www.youtube.com/watch?v=gXbThCXjZFM"
   ]
  }
 ],
 "metadata": {
  "kernelspec": {
   "display_name": ".venv",
   "language": "python",
   "name": "python3"
  },
  "language_info": {
   "codemirror_mode": {
    "name": "ipython",
    "version": 3
   },
   "file_extension": ".py",
   "mimetype": "text/x-python",
   "name": "python",
   "nbconvert_exporter": "python",
   "pygments_lexer": "ipython3",
   "version": "3.11.4"
  },
  "orig_nbformat": 4
 },
 "nbformat": 4,
 "nbformat_minor": 2
}
