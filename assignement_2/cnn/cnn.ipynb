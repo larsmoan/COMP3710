{
  "nbformat": 4,
  "nbformat_minor": 0,
  "metadata": {
    "colab": {
      "provenance": [],
      "gpuType": "T4",
      "authorship_tag": "ABX9TyPVAa5SvwA73nadqb46oc7+",
      "include_colab_link": true
    },
    "kernelspec": {
      "name": "python3",
      "display_name": "Python 3"
    },
    "language_info": {
      "name": "python"
    },
    "accelerator": "GPU"
  },
  "cells": [
    {
      "cell_type": "markdown",
      "metadata": {
        "id": "view-in-github",
        "colab_type": "text"
      },
      "source": [
        "<a href=\"https://colab.research.google.com/github/larsmoan/COMP3710/blob/main/assignement_2/cnn/cnn.ipynb\" target=\"_parent\"><img src=\"https://colab.research.google.com/assets/colab-badge.svg\" alt=\"Open In Colab\"/></a>"
      ]
    },
    {
      "cell_type": "code",
      "source": [
        "from sklearn.datasets import fetch_lfw_people\n",
        "from sklearn.model_selection import train_test_split\n",
        "import torch\n",
        "import torch.nn as nn\n",
        "import numpy as np\n",
        "import torch.optim as optim\n",
        "from torchvision import transforms\n",
        "from torch.utils.data import DataLoader, TensorDataset\n",
        "import matplotlib.pyplot as plt\n",
        "from PIL import Image\n",
        "\n",
        "\n",
        "def show_pic_tensor(img_tensor):\n",
        "  image_np = img_tensor.numpy()\n",
        "  # Display the grayscale image in black and white\n",
        "  plt.imshow(image_np, cmap='gray', vmin=0, vmax=1)  # Use the 'gray' colormap\n",
        "  plt.axis('off')  # Turn off axis labels and ticks\n",
        "  plt.show()"
      ],
      "metadata": {
        "id": "XR1_XH9ZiwkS"
      },
      "execution_count": 1,
      "outputs": []
    },
    {
      "cell_type": "code",
      "source": [
        "# Fetch the LFW dataset\n",
        "lfw_people = fetch_lfw_people(min_faces_per_person=70, resize=0.4)\n",
        "n_classes = lfw_people.target_names.shape[0]\n",
        "\n",
        "# Convert images to grayscale\n",
        "X_gray = [Image.fromarray(image).convert('L') for image in lfw_people.images]\n",
        "\n",
        "X = lfw_people.images\n",
        "\n",
        "X_train, X_test, y_train, y_test = train_test_split(X, lfw_people.target, test_size=0.2, random_state=42)\n",
        "X_train = X_train[:, np.newaxis, :, :]\n",
        "X_test = X_test[:, np.newaxis, :, :]\n",
        "print(\"X_train shape:\", X_train.shape)\n"
      ],
      "metadata": {
        "id": "ppTBgy4LuS03",
        "outputId": "3f8aa333-51c9-44e7-b131-1dcc05d706af",
        "colab": {
          "base_uri": "https://localhost:8080/"
        }
      },
      "execution_count": 15,
      "outputs": [
        {
          "output_type": "stream",
          "name": "stdout",
          "text": [
            "X_train shape: (1030, 1, 50, 37)\n"
          ]
        }
      ]
    },
    {
      "cell_type": "code",
      "source": [
        "# Convert the NumPy arrays to PyTorch tensors\n",
        "X_train = torch.from_numpy(X_train).float()\n",
        "X_test = torch.from_numpy(X_test).float()\n",
        "y_train = torch.from_numpy(y_train)\n",
        "y_test = torch.from_numpy(y_test)\n",
        "\n",
        "# Create TensorDatasets for train and test data\n",
        "train_dataset = TensorDataset(X_train, y_train)\n",
        "test_dataset = TensorDataset(X_test, y_test)\n",
        "\n",
        "# Define batch size for the data loaders\n",
        "batch_size = 6\n",
        "\n",
        "# Create DataLoader instances for train and test data\n",
        "train_loader = DataLoader(train_dataset, batch_size=batch_size, shuffle=True)\n",
        "test_loader = DataLoader(test_dataset, batch_size=batch_size, shuffle=False)"
      ],
      "metadata": {
        "id": "0nEHXBZtnDqt"
      },
      "execution_count": 16,
      "outputs": []
    },
    {
      "cell_type": "code",
      "execution_count": 18,
      "metadata": {
        "id": "xb9eDX3divSZ"
      },
      "outputs": [],
      "source": [
        "# Define the CNN model\n",
        "class CNNClassifier(nn.Module):\n",
        "    def __init__(self, num_classes):\n",
        "        super().__init__()\n",
        "        self.network = nn.Sequential(\n",
        "            nn.Conv2d(1, 32, kernel_size=3, padding=1),  # Changed input channels to 1\n",
        "            nn.Conv2d(32, 32, kernel_size=3, padding=1),\n",
        "            nn.MaxPool2d(kernel_size=2, stride=2),\n",
        "            nn.Conv2d(32, 64, kernel_size=3, padding=1),  # Added another convolutional layer\n",
        "            nn.MaxPool2d(kernel_size=2, stride=2),\n",
        "            nn.Flatten(),\n",
        "            nn.Linear(64 * 12 * 9, 128),  # Adjusted input size\n",
        "            nn.Linear(128, num_classes)\n",
        "        )\n",
        "\n",
        "    def forward(self, x):\n",
        "        return self.network(x)"
      ]
    },
    {
      "cell_type": "code",
      "source": [
        "#Training\n",
        "num_epochs = 150\n",
        "learning_rate = 0.001\n",
        "\n",
        "device = torch.device(\"cuda\" if torch.cuda.is_available() else \"cpu\")\n",
        "model = CNNClassifier(num_classes=n_classes).to(device)\n",
        "\n",
        "# Define the loss and optimizer\n",
        "criterion = nn.CrossEntropyLoss()\n",
        "optimizer = optim.Adam(model.parameters(), lr=learning_rate)\n",
        "\n",
        "# Training loop\n",
        "for epoch in range(num_epochs):\n",
        "    model.train()\n",
        "    running_loss = 0.0\n",
        "    for i, (inputs, labels) in enumerate(train_loader):\n",
        "        inputs, labels = inputs.to(device), labels.to(device)\n",
        "\n",
        "        optimizer.zero_grad()\n",
        "        outputs = model(inputs)\n",
        "        loss = criterion(outputs, labels)\n",
        "        loss.backward()\n",
        "        optimizer.step()\n",
        "\n",
        "        running_loss += loss.item()\n",
        "\n",
        "    print(f\"Epoch {epoch + 1}/{num_epochs}, Loss: {running_loss / len(train_loader)}\")"
      ],
      "metadata": {
        "colab": {
          "base_uri": "https://localhost:8080/"
        },
        "id": "Hq25ogpXtDle",
        "outputId": "c665249c-3eea-40e5-8439-20d2e98db91d"
      },
      "execution_count": 23,
      "outputs": [
        {
          "output_type": "stream",
          "name": "stdout",
          "text": [
            "Epoch 1/150, Loss: 1.4146284504338753\n",
            "Epoch 2/150, Loss: 0.6129913264777251\n",
            "Epoch 3/150, Loss: 0.2903164785780381\n",
            "Epoch 4/150, Loss: 0.18642954082873942\n",
            "Epoch 5/150, Loss: 0.18193422901712503\n",
            "Epoch 6/150, Loss: 0.03628904054626536\n",
            "Epoch 7/150, Loss: 0.0219727645725494\n",
            "Epoch 8/150, Loss: 0.06855143320738585\n",
            "Epoch 9/150, Loss: 0.17700251950351908\n",
            "Epoch 10/150, Loss: 0.09140584970902153\n",
            "Epoch 11/150, Loss: 0.010232522970718383\n",
            "Epoch 12/150, Loss: 0.0012191795483506198\n",
            "Epoch 13/150, Loss: 0.00031815832533619974\n",
            "Epoch 14/150, Loss: 0.00024476303569988933\n",
            "Epoch 15/150, Loss: 0.00019909561492944514\n",
            "Epoch 16/150, Loss: 0.00016698713055423496\n",
            "Epoch 17/150, Loss: 0.0001425648915526754\n",
            "Epoch 18/150, Loss: 0.00012252007967223974\n",
            "Epoch 19/150, Loss: 0.00010696694610617823\n",
            "Epoch 20/150, Loss: 9.352037343309521e-05\n",
            "Epoch 21/150, Loss: 8.260361637492806e-05\n",
            "Epoch 22/150, Loss: 7.296265833550052e-05\n",
            "Epoch 23/150, Loss: 6.44279485905304e-05\n",
            "Epoch 24/150, Loss: 5.7433411751650364e-05\n",
            "Epoch 25/150, Loss: 5.127210405775867e-05\n",
            "Epoch 26/150, Loss: 4.5774905645584085e-05\n",
            "Epoch 27/150, Loss: 4.10035773319904e-05\n",
            "Epoch 28/150, Loss: 3.682530437164677e-05\n",
            "Epoch 29/150, Loss: 3.3053328916132e-05\n",
            "Epoch 30/150, Loss: 2.961125816080584e-05\n",
            "Epoch 31/150, Loss: 2.6814903782695006e-05\n",
            "Epoch 32/150, Loss: 2.4272083099356454e-05\n",
            "Epoch 33/150, Loss: 2.1689992673025623e-05\n",
            "Epoch 34/150, Loss: 1.9568843470778533e-05\n",
            "Epoch 35/150, Loss: 1.7631315768345443e-05\n",
            "Epoch 36/150, Loss: 1.5993056073703495e-05\n",
            "Epoch 37/150, Loss: 1.4413912008476434e-05\n",
            "Epoch 38/150, Loss: 1.3023866087937405e-05\n",
            "Epoch 39/150, Loss: 1.1866231178000426e-05\n",
            "Epoch 40/150, Loss: 1.0659927409290908e-05\n",
            "Epoch 41/150, Loss: 9.685784686979064e-06\n",
            "Epoch 42/150, Loss: 8.722512136747506e-06\n",
            "Epoch 43/150, Loss: 7.920191289685403e-06\n",
            "Epoch 44/150, Loss: 7.181910796532024e-06\n",
            "Epoch 45/150, Loss: 6.519039863008939e-06\n",
            "Epoch 46/150, Loss: 5.924025338742261e-06\n",
            "Epoch 47/150, Loss: 5.352681939401401e-06\n",
            "Epoch 48/150, Loss: 4.853007456588072e-06\n",
            "Epoch 49/150, Loss: 4.4400746414321815e-06\n",
            "Epoch 50/150, Loss: 4.001438613364221e-06\n",
            "Epoch 51/150, Loss: 3.6254039003117693e-06\n",
            "Epoch 52/150, Loss: 3.2889879058183895e-06\n",
            "Epoch 53/150, Loss: 2.9925938112276905e-06\n",
            "Epoch 54/150, Loss: 2.707575992331076e-06\n",
            "Epoch 55/150, Loss: 2.4752303507931945e-06\n",
            "Epoch 56/150, Loss: 2.2373374624796895e-06\n",
            "Epoch 57/150, Loss: 2.0239334234505123e-06\n",
            "Epoch 58/150, Loss: 1.838944199955432e-06\n",
            "Epoch 59/150, Loss: 1.673821938726868e-06\n",
            "Epoch 60/150, Loss: 1.5151683802810311e-06\n",
            "Epoch 61/150, Loss: 1.382561880319434e-06\n",
            "Epoch 62/150, Loss: 1.2519767984708368e-06\n",
            "Epoch 63/150, Loss: 1.1375629413742863e-06\n",
            "Epoch 64/150, Loss: 1.0366059990333786e-06\n",
            "Epoch 65/150, Loss: 9.383635435809673e-07\n",
            "Epoch 66/150, Loss: 8.520185900269571e-07\n",
            "Epoch 67/150, Loss: 7.757231708352472e-07\n",
            "Epoch 68/150, Loss: 7.070513304350423e-07\n",
            "Epoch 69/150, Loss: 6.407475064844316e-07\n",
            "Epoch 70/150, Loss: 5.811432587454498e-07\n",
            "Epoch 71/150, Loss: 5.276611673697276e-07\n",
            "Epoch 72/150, Loss: 4.796658625746382e-07\n",
            "Epoch 73/150, Loss: 4.3582895659347096e-07\n",
            "Epoch 74/150, Loss: 3.964392616768266e-07\n",
            "Epoch 75/150, Loss: 3.59937354257684e-07\n",
            "Epoch 76/150, Loss: 3.2557241633395703e-07\n",
            "Epoch 77/150, Loss: 2.9732963427776203e-07\n",
            "Epoch 78/150, Loss: 2.6926009178379747e-07\n",
            "Epoch 79/150, Loss: 2.454645073248619e-07\n",
            "Epoch 80/150, Loss: 2.216689190240382e-07\n",
            "Epoch 81/150, Loss: 2.0226281251417954e-07\n",
            "Epoch 82/150, Loss: 1.8354976711669695e-07\n",
            "Epoch 83/150, Loss: 1.6749350561803757e-07\n",
            "Epoch 84/150, Loss: 1.5236135282624764e-07\n",
            "Epoch 85/150, Loss: 1.3832656017003438e-07\n",
            "Epoch 86/150, Loss: 1.254468911591355e-07\n",
            "Epoch 87/150, Loss: 1.1383786314634029e-07\n",
            "Epoch 88/150, Loss: 1.028064000235161e-07\n",
            "Epoch 89/150, Loss: 9.304557254906978e-08\n",
            "Epoch 90/150, Loss: 8.43243593607543e-08\n",
            "Epoch 91/150, Loss: 7.716256749835851e-08\n",
            "Epoch 92/150, Loss: 7.000077584251585e-08\n",
            "Epoch 93/150, Loss: 6.439840608061397e-08\n",
            "Epoch 94/150, Loss: 5.7583150175770336e-08\n",
            "Epoch 95/150, Loss: 5.2038535330996316e-08\n",
            "Epoch 96/150, Loss: 4.8457638408343447e-08\n",
            "Epoch 97/150, Loss: 4.401039516284432e-08\n",
            "Epoch 98/150, Loss: 3.9101100042547933e-08\n",
            "Epoch 99/150, Loss: 3.5577958398490874e-08\n",
            "Epoch 100/150, Loss: 3.234359957121495e-08\n",
            "Epoch 101/150, Loss: 2.9398022052882378e-08\n",
            "Epoch 102/150, Loss: 2.691449574837708e-08\n",
            "Epoch 103/150, Loss: 2.3911162021959647e-08\n",
            "Epoch 104/150, Loss: 2.229398201964529e-08\n",
            "Epoch 105/150, Loss: 1.9752699300502013e-08\n",
            "Epoch 106/150, Loss: 1.7095903814048715e-08\n",
            "Epoch 107/150, Loss: 1.5940775232114753e-08\n",
            "Epoch 108/150, Loss: 1.4496864535680272e-08\n",
            "Epoch 109/150, Loss: 1.3399492430350229e-08\n",
            "Epoch 110/150, Loss: 1.2244363807105644e-08\n",
            "Epoch 111/150, Loss: 1.143577379562081e-08\n",
            "Epoch 112/150, Loss: 9.818593772651142e-09\n",
            "Epoch 113/150, Loss: 9.18327304639087e-09\n",
            "Epoch 114/150, Loss: 7.970387863921122e-09\n",
            "Epoch 115/150, Loss: 6.9307721112631215e-09\n",
            "Epoch 116/150, Loss: 6.584233437537435e-09\n",
            "Epoch 117/150, Loss: 5.5446176229134984e-09\n",
            "Epoch 118/150, Loss: 5.198079073119685e-09\n",
            "Epoch 119/150, Loss: 4.158463299806372e-09\n",
            "Epoch 120/150, Loss: 3.6964118174600393e-09\n",
            "Epoch 121/150, Loss: 3.4653861175974968e-09\n",
            "Epoch 122/150, Loss: 3.118847464527123e-09\n",
            "Epoch 123/150, Loss: 2.8878217646645807e-09\n",
            "Epoch 124/150, Loss: 2.7723088940779977e-09\n",
            "Epoch 125/150, Loss: 2.194744541145081e-09\n",
            "Epoch 126/150, Loss: 2.541283152904831e-09\n",
            "Epoch 127/150, Loss: 1.963718799971915e-09\n",
            "Epoch 128/150, Loss: 1.963718799971915e-09\n",
            "Epoch 129/150, Loss: 1.7326930174881244e-09\n",
            "Epoch 130/150, Loss: 1.3861544470389988e-09\n",
            "Epoch 131/150, Loss: 1.3861544263836866e-09\n",
            "Epoch 132/150, Loss: 1.5016672969702699e-09\n",
            "Epoch 133/150, Loss: 1.1551286852105201e-09\n",
            "Epoch 134/150, Loss: 1.1551286852105201e-09\n",
            "Epoch 135/150, Loss: 5.775643529329162e-10\n",
            "Epoch 136/150, Loss: 8.085900941060826e-10\n",
            "Epoch 137/150, Loss: 6.930772235194994e-10\n",
            "Epoch 138/150, Loss: 8.085900734507706e-10\n",
            "Epoch 139/150, Loss: 5.775643529329162e-10\n",
            "Epoch 140/150, Loss: 4.620514823463329e-10\n",
            "Epoch 141/150, Loss: 3.465385911044376e-10\n",
            "Epoch 142/150, Loss: 2.3102574117316645e-10\n",
            "Epoch 143/150, Loss: 1.1551287058658323e-10\n",
            "Epoch 144/150, Loss: 2.3102574117316645e-10\n",
            "Epoch 145/150, Loss: 0.0\n",
            "Epoch 146/150, Loss: 1.1551287058658323e-10\n",
            "Epoch 147/150, Loss: 3.465386117597497e-10\n",
            "Epoch 148/150, Loss: 1.1551287058658323e-10\n",
            "Epoch 149/150, Loss: 0.0\n",
            "Epoch 150/150, Loss: 0.0\n"
          ]
        }
      ]
    },
    {
      "cell_type": "code",
      "source": [
        "# Test loop\n",
        "model.eval()\n",
        "correct = 0\n",
        "total = 0\n",
        "with torch.no_grad():\n",
        "    for inputs, labels in test_loader:\n",
        "        inputs, labels = inputs.to(device), labels.to(device)\n",
        "        outputs = model(inputs)\n",
        "        _, predicted = torch.max(outputs.data, 1)\n",
        "        total += labels.size(0)\n",
        "        correct += (predicted == labels).sum().item()\n",
        "\n",
        "accuracy = 100 * correct / total\n",
        "print(f\"Test Accuracy: {accuracy}%\")"
      ],
      "metadata": {
        "colab": {
          "base_uri": "https://localhost:8080/"
        },
        "id": "gi-kmyHZv5ag",
        "outputId": "e4643ce2-1001-4485-e28c-c8966078d8a2"
      },
      "execution_count": 24,
      "outputs": [
        {
          "output_type": "stream",
          "name": "stdout",
          "text": [
            "Test Accuracy: 91.86046511627907%\n"
          ]
        }
      ]
    },
    {
      "cell_type": "code",
      "source": [
        "#Save the weights to a .pt file\n",
        "weights_path = \"lfw_faces.pt\"\n",
        "torch.save(model.state_dict(), weights_path)"
      ],
      "metadata": {
        "id": "dnuDrkf_pLg_"
      },
      "execution_count": 25,
      "outputs": []
    }
  ]
}